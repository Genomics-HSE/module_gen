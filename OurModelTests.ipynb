{
 "cells": [
  {
   "cell_type": "code",
   "execution_count": 1,
   "metadata": {},
   "outputs": [],
   "source": [
    "# Our data generator submodule - use as always\n",
    "import OurModule.data_generator as om\n",
    "\n",
    "import numpy as np\n",
    "import matplotlib.pyplot as plt"
   ]
  },
  {
   "cell_type": "code",
   "execution_count": null,
   "metadata": {},
   "outputs": [],
   "source": [
    "# You can use as always"
   ]
  },
  {
   "cell_type": "code",
   "execution_count": 2,
   "metadata": {},
   "outputs": [
    {
     "name": "stdout",
     "output_type": "stream",
     "text": [
      "[60.23057474217469, 867.0222650756976, 803.7314362052925, 182.99348978702258, 147.85203560708996]\n"
     ]
    }
   ],
   "source": [
    "demographics_evevents = om.generate_demographic_events_complex(12000, random_seed=47)"
   ]
  },
  {
   "cell_type": "code",
   "execution_count": 3,
   "metadata": {},
   "outputs": [
    {
     "data": {
      "image/png": "[encoded data removed]",
      "text/plain": [
       "<Figure size 432x288 with 1 Axes>"
      ]
     },
     "metadata": {
      "needs_background": "light"
     },
     "output_type": "display_data"
    }
   ],
   "source": [
    "debug = demographics_evevents.debug()\n",
    "\n",
    "t = np.linspace(0, 350_000, num=20)\n",
    "S = debug.population_size_trajectory(t)\n",
    "plt.step(t, S, label=\"Population\")\n",
    "plt.xlabel(\"Time ago\")\n",
    "plt.ylabel(\"Population size\")\n",
    "## plt.ylim(0,75_000)\n",
    "plt.legend();"
   ]
  },
  {
   "cell_type": "code",
   "execution_count": 4,
   "metadata": {},
   "outputs": [],
   "source": [
    "DG = om.DataGenerator(demographic_events=demographics_evevents)\n",
    "for mutations, d_times, prior_dist in DG:\n",
    "    pass"
   ]
  },
  {
   "cell_type": "code",
   "execution_count": 8,
   "metadata": {},
   "outputs": [
    {
     "name": "stdout",
     "output_type": "stream",
     "text": [
      "[1, 1, 1, 1, 1, 1, 1, 1, 1, 1, 1, 1, 1, 1, 1, 1, 1, 1, 1, 1, 1, 1, 1, 1, 1, 1, 1, 1, 1, 1, 1, 1, 1, 1, 1, 1, 1, 1, 1, 1, 1, 1, 1, 1, 1, 1, 1, 1, 1, 1, 1, 1, 1, 1, 1, 1, 1, 1, 1, 1, 1, 1, 1, 1, 1, 1, 1, 1, 1, 1, 1, 1, 1, 1, 1, 1, 1, 1, 1, 1, 1, 1, 1, 1, 1, 1, 1, 1, 1, 1, 1, 1, 1, 1, 1, 1, 1, 1, 1, 1] [0, 0, 0, 0, 0, 0, 0, 0, 0, 0, 0, 0, 0, 0, 0, 0, 0, 0, 0, 0, 0, 0, 0, 0, 0, 0, 0, 0, 0, 0, 0, 0, 0, 0, 0, 0, 0, 0, 0, 0, 0, 0, 0, 0, 0, 0, 0, 0, 0, 0, 0, 0, 0, 0, 0, 0, 0, 0, 0, 0, 0, 0, 0, 0, 0, 0, 0, 0, 0, 0, 0, 0, 0, 0, 0, 0, 0, 0, 0, 0, 0, 0, 0, 0, 0, 0, 0, 0, 0, 0, 0, 0, 0, 0, 0, 0, 0, 0, 0, 0] [0.25771900000000003, 0.05625199999999999, 0.019091, 0.06374333333333333, 0.19882266666666665, 0.03460433333333332, 0.03325966666666667, 0.011786333333333334, 0.016540666666666665, 0.021863999999999995, 0.017948333333333334, 0.02438633333333334, 0.010525666666666668, 0.03543433333333334, 0.010777999999999998, 0.008822333333333335, 0.052617, 0.11978399999999996, 0.005343999999999999, 0.0006770000000000001]\n"
     ]
    }
   ],
   "source": [
    "print(mutations[:100], d_times[:100], prior_dist)"
   ]
  },
  {
   "cell_type": "code",
   "execution_count": 12,
   "metadata": {},
   "outputs": [
    {
     "data": {
      "text/plain": [
       "0.008290333333333334"
      ]
     },
     "execution_count": 12,
     "metadata": {},
     "output_type": "execute_result"
    }
   ],
   "source": [
    "sum(mutations)/len(mutations)"
   ]
  },
  {
   "cell_type": "code",
   "execution_count": null,
   "metadata": {},
   "outputs": [],
   "source": [
    "# Our submodule for meetrics\n",
    "import OurModule.metrics as ut"
   ]
  },
  {
   "cell_type": "code",
   "execution_count": null,
   "metadata": {},
   "outputs": [],
   "source": [
    "def f(a,b):\n",
    "    return (a+b)/2\n",
    "\n",
    "def g(l):\n",
    "    return sum(l) \n",
    "\n",
    "sr_f = ut.baseSravnyator(f)\n",
    "sr_g = ut.baseSravnyator(g)"
   ]
  },
  {
   "cell_type": "code",
   "execution_count": null,
   "metadata": {},
   "outputs": [],
   "source": [
    "sr_f(2,3)"
   ]
  },
  {
   "cell_type": "code",
   "execution_count": null,
   "metadata": {},
   "outputs": [],
   "source": [
    "sr_g([1,2,3])"
   ]
  },
  {
   "cell_type": "code",
   "execution_count": null,
   "metadata": {},
   "outputs": [],
   "source": [
    "mse = ut.MSESravnyator()\n",
    "mse([1,2,3], [2,3,1])"
   ]
  },
  {
   "cell_type": "code",
   "execution_count": null,
   "metadata": {},
   "outputs": [],
   "source": [
    "mae = ut.MAESravnyator()\n",
    "mae([1,2,3], [2,3,1])"
   ]
  },
  {
   "cell_type": "code",
   "execution_count": null,
   "metadata": {},
   "outputs": [],
   "source": [
    "kl = ut.KLSravnyator()\n",
    "\n",
    "values1 = [1.346112,1.337432,1.246655]\n",
    "values2 = [1.033836,1.082015,1.117323]\n",
    "\n",
    "kl(values1, values2)"
   ]
  },
  {
   "cell_type": "code",
   "execution_count": null,
   "metadata": {},
   "outputs": [],
   "source": [
    "# But better to use universal function or interface to accepts this functional "
   ]
  },
  {
   "cell_type": "code",
   "execution_count": 3,
   "metadata": {},
   "outputs": [
    {
     "data": {
      "text/plain": [
       "<matplotlib.legend.Legend at 0x125da6250>"
      ]
     },
     "execution_count": 3,
     "metadata": {},
     "output_type": "execute_result"
    },
    {
     "data": {
      "image/png": "[encoded data removed]",
      "text/plain": [
       "<Figure size 432x288 with 1 Axes>"
      ]
     },
     "metadata": {
      "needs_background": "light"
     },
     "output_type": "display_data"
    }
   ],
   "source": [
    "\n",
    "\n",
    "debug = om.generate_demography_from_list(\n",
    "    [1_000, 2_000, 3_000, 4_000, 5_000, 6_000 ],\n",
    "    [100, 1000, 100, 1_000, 500, 1_000]\n",
    ").debug()\n",
    "\n",
    "t = np.linspace(0, 10_000, num=20)\n",
    "S = debug.population_size_trajectory(t)\n",
    "plt.step(t, S, label=\"Population\")\n",
    "plt.xlabel(\"Time ago\")\n",
    "plt.ylabel(\"Population size\")\n",
    "## plt.ylim(0,75_000)\n",
    "plt.legend()"
   ]
  },
  {
   "cell_type": "code",
   "execution_count": null,
   "metadata": {},
   "outputs": [],
   "source": []
  },
  {
   "cell_type": "code",
   "execution_count": null,
   "metadata": {},
   "outputs": [],
   "source": [
    "om.simulate_scenario()"
   ]
  },
  {
   "cell_type": "code",
   "execution_count": 6,
   "metadata": {},
   "outputs": [
    {
     "name": "stdout",
     "output_type": "stream",
     "text": [
      "Simulating scenario \"Medium\"\n"
     ]
    }
   ],
   "source": [
    "scenarios = {'Medium': [3.7, 3.7, 3.7, 3.7, 3.7, 3.7, 3.7, 3.7, 3.7, 3.7, 3.7, 3.7, 3.7, 3.7, 3.7, 3.7, 3.7, 3.7, 3.7, 3.7, 3.7],   \n",
    "             #'Large': 4.7 * np.ones(shape=21, dtype='float'), \n",
    "             #'Decline': [2.5, 2.5, 3, 3, 3, 3, 3.2, 3.4, 3.6, 3.8, 4, 4.2, 4.6, 4.6, 4.6, 4.6, 4.6, 4.6, 4.6, 4.6, 4.6], \n",
    "             #'Expansion': [4.7, 4.7, 4.7, 4.6, 4.6, 4.5, 4.4, 4.3, 4, 3.7, 3.4, 3.4, 3.4, 3.4, 3.4, 3.4, 3.4, 3.4, 3.4, 3.4, 3.4], \n",
    "             #'Bottleneck': [4.8, 4.8, 4.8, 4.8, 4.8, 4.8, 4.8, 4.8, 4.8, 4.5, 4.15, 3.8, 4.3, 4.8, 4.55, 4.3, 4.05, 3.8, 3.8, 3.8, 3.8], \n",
    "             #'Zigzag': [4.8, 4.8, 4.8, 4.5, 4.15, 3.8, 4.15, 4.5, 4.8, 4.5, 4.15, 3.8, 4.3, 4.8, 4.55, 4.3, 4.05, 3.8, 3.8, 3.8, 3.8]\n",
    "            }\n",
    "scenarios = {k:10**np.array(scenarios[k]) for k in scenarios.keys()}\n",
    "seed = 2\n",
    "num_replicates = 100\n",
    "mutation_rate = 1e-8\n",
    "segment_length = 2e6\n",
    "time_rate = 0.06\n",
    "tmax = 130000\n",
    "num_time_windows = 21\n",
    "num_sample = 50\n",
    "population_time = [(np.exp(np.log(1 + time_rate * tmax) * i /\n",
    "                  (num_time_windows - 1)) - 1) / time_rate for i in\n",
    "                  range(num_time_windows)]\n",
    "snp_data = {}\n",
    "for k in scenarios.keys():\n",
    "    print(f'Simulating scenario \\\"{k}\\\"')\n",
    "    population_size = scenarios[k]\n",
    "    recombination_rate = np.random.uniform(low=1e-9, high=1e-8)\n",
    "    snp_data[k] = om.simulate_scenario(population_size, population_time, seed, num_replicates, mutation_rate, \n",
    "                             recombination_rate, segment_length, num_sample)"
   ]
  },
  {
   "cell_type": "code",
   "execution_count": null,
   "metadata": {},
   "outputs": [],
   "source": []
  },
  {
   "cell_type": "code",
   "execution_count": null,
   "metadata": {},
   "outputs": [],
   "source": []
  }
 ],
 "metadata": {
  "kernelspec": {
   "display_name": "Python 3",
   "language": "python",
   "name": "python3"
  },
  "language_info": {
   "codemirror_mode": {
    "name": "ipython",
    "version": 3
   },
   "file_extension": ".py",
   "mimetype": "text/x-python",
   "name": "python",
   "nbconvert_exporter": "python",
   "pygments_lexer": "ipython3",
   "version": "3.7.6"
  }
 },
 "nbformat": 4,
 "nbformat_minor": 4
}
